{
  "nbformat": 4,
  "nbformat_minor": 0,
  "metadata": {
    "colab": {
      "name": "BAX452 Discussion2-William.ipynb",
      "version": "0.3.2",
      "provenance": [],
      "collapsed_sections": []
    },
    "kernelspec": {
      "name": "python3",
      "display_name": "Python 3"
    }
  },
  "cells": [
    {
      "metadata": {
        "id": "nRjpjItErTtk",
        "colab_type": "text"
      },
      "cell_type": "markdown",
      "source": [
        "# **Fortune 500 Companies**"
      ]
    },
    {
      "metadata": {
        "id": "FIIuODZhrprT",
        "colab_type": "text"
      },
      "cell_type": "markdown",
      "source": [
        "# **Overview**\n",
        "This project is to visualize the density of the fortune 500 companies in US by states. "
      ]
    },
    {
      "metadata": {
        "id": "yrbig9iirwzZ",
        "colab_type": "text"
      },
      "cell_type": "markdown",
      "source": [
        "**Data Preprocessing**"
      ]
    },
    {
      "metadata": {
        "id": "wxywHOOXrSi3",
        "colab_type": "code",
        "outputId": "8944fce1-322d-4741-c021-7600920fe947",
        "colab": {
          "base_uri": "https://localhost:8080/",
          "height": 85
        }
      },
      "cell_type": "code",
      "source": [
        "!pip install squarify\n",
        "# Data Manipulation\n",
        "import pandas as pd\n",
        "# Treemap Ploting\n",
        "import squarify\n",
        "# Matplotlib and Seaborn imports\n",
        "import matplotlib\n",
        "from matplotlib import style\n",
        "import matplotlib.pyplot as plt\n",
        "import seaborn as sns\n",
        "# Activate Seaborn\n",
        "sns.set()\n",
        "%matplotlib inline\n",
        "# Large Plot\n",
        "matplotlib.rcParams['figure.figsize'] = (16.0, 9.0)\n",
        "# Use ggplot style\n",
        "style.use('ggplot')"
      ],
      "execution_count": 0,
      "outputs": [
        {
          "output_type": "stream",
          "text": [
            "Collecting squarify\n",
            "  Downloading https://files.pythonhosted.org/packages/c5/76/80933fa481c630a3295d47b026b704094080efb7938edf8ab9e1b0c0e5ba/squarify-0.3.0-py3-none-any.whl\n",
            "Installing collected packages: squarify\n",
            "Successfully installed squarify-0.3.0\n"
          ],
          "name": "stdout"
        }
      ]
    },
    {
      "metadata": {
        "id": "ZFGB8zm_r-Ak",
        "colab_type": "code",
        "outputId": "db54282a-ceea-4072-afc7-585d4c51fa20",
        "colab": {
          "base_uri": "https://localhost:8080/",
          "height": 204
        }
      },
      "cell_type": "code",
      "source": [
        "fortune = pd.read_csv(\"https://raw.githubusercontent.com/pssguy/fortune500/master/fortune500.csv\")\n",
        "fortune.head()"
      ],
      "execution_count": 0,
      "outputs": [
        {
          "output_type": "execute_result",
          "data": {
            "text/html": [
              "<div>\n",
              "<style scoped>\n",
              "    .dataframe tbody tr th:only-of-type {\n",
              "        vertical-align: middle;\n",
              "    }\n",
              "\n",
              "    .dataframe tbody tr th {\n",
              "        vertical-align: top;\n",
              "    }\n",
              "\n",
              "    .dataframe thead th {\n",
              "        text-align: right;\n",
              "    }\n",
              "</style>\n",
              "<table border=\"1\" class=\"dataframe\">\n",
              "  <thead>\n",
              "    <tr style=\"text-align: right;\">\n",
              "      <th></th>\n",
              "      <th>lon</th>\n",
              "      <th>lat</th>\n",
              "      <th>company</th>\n",
              "      <th>location</th>\n",
              "      <th>industry</th>\n",
              "      <th>state</th>\n",
              "      <th>city</th>\n",
              "    </tr>\n",
              "  </thead>\n",
              "  <tbody>\n",
              "    <tr>\n",
              "      <th>0</th>\n",
              "      <td>-94.2088</td>\n",
              "      <td>36.3729</td>\n",
              "      <td>Walmart</td>\n",
              "      <td>Bentonville, AR</td>\n",
              "      <td>General Merchandisers</td>\n",
              "      <td>AR</td>\n",
              "      <td>Bentonville</td>\n",
              "    </tr>\n",
              "    <tr>\n",
              "      <th>1</th>\n",
              "      <td>-96.9489</td>\n",
              "      <td>32.8140</td>\n",
              "      <td>Exxon Mobil</td>\n",
              "      <td>Irving, TX</td>\n",
              "      <td>Petroleum Refining</td>\n",
              "      <td>TX</td>\n",
              "      <td>Irving</td>\n",
              "    </tr>\n",
              "    <tr>\n",
              "      <th>2</th>\n",
              "      <td>-121.9780</td>\n",
              "      <td>37.7799</td>\n",
              "      <td>Chevron</td>\n",
              "      <td>San Ramon, CA</td>\n",
              "      <td>Petroleum Refining</td>\n",
              "      <td>CA</td>\n",
              "      <td>San Ramon</td>\n",
              "    </tr>\n",
              "    <tr>\n",
              "      <th>3</th>\n",
              "      <td>-95.9980</td>\n",
              "      <td>41.2524</td>\n",
              "      <td>Berkshire Hathaway</td>\n",
              "      <td>Omaha, NE</td>\n",
              "      <td>Insurance: Property and Casualty (Stock)</td>\n",
              "      <td>NE</td>\n",
              "      <td>Omaha</td>\n",
              "    </tr>\n",
              "    <tr>\n",
              "      <th>4</th>\n",
              "      <td>-122.0320</td>\n",
              "      <td>37.3230</td>\n",
              "      <td>Apple</td>\n",
              "      <td>Cupertino, CA</td>\n",
              "      <td>Computers, Office Equipment</td>\n",
              "      <td>CA</td>\n",
              "      <td>Cupertino</td>\n",
              "    </tr>\n",
              "  </tbody>\n",
              "</table>\n",
              "</div>"
            ],
            "text/plain": [
              "        lon      lat             company         location  \\\n",
              "0  -94.2088  36.3729             Walmart  Bentonville, AR   \n",
              "1  -96.9489  32.8140         Exxon Mobil       Irving, TX   \n",
              "2 -121.9780  37.7799             Chevron    San Ramon, CA   \n",
              "3  -95.9980  41.2524  Berkshire Hathaway        Omaha, NE   \n",
              "4 -122.0320  37.3230               Apple    Cupertino, CA   \n",
              "\n",
              "                                   industry state         city  \n",
              "0                     General Merchandisers    AR  Bentonville  \n",
              "1                        Petroleum Refining    TX       Irving  \n",
              "2                        Petroleum Refining    CA    San Ramon  \n",
              "3  Insurance: Property and Casualty (Stock)    NE        Omaha  \n",
              "4               Computers, Office Equipment    CA    Cupertino  "
            ]
          },
          "metadata": {
            "tags": []
          },
          "execution_count": 2
        }
      ]
    },
    {
      "metadata": {
        "id": "QxRDnF_Kxw9a",
        "colab_type": "code",
        "outputId": "78a14660-1c2c-4bb6-9d0c-b4b0ed349bc0",
        "colab": {
          "base_uri": "https://localhost:8080/",
          "height": 204
        }
      },
      "cell_type": "code",
      "source": [
        "agg = pd.DataFrame(fortune.groupby([\"state\"], as_index=False)[\"company\"].count().sort_values(by='company', ascending=False))\n",
        "agg.head()"
      ],
      "execution_count": 0,
      "outputs": [
        {
          "output_type": "execute_result",
          "data": {
            "text/html": [
              "<div>\n",
              "<style scoped>\n",
              "    .dataframe tbody tr th:only-of-type {\n",
              "        vertical-align: middle;\n",
              "    }\n",
              "\n",
              "    .dataframe tbody tr th {\n",
              "        vertical-align: top;\n",
              "    }\n",
              "\n",
              "    .dataframe thead th {\n",
              "        text-align: right;\n",
              "    }\n",
              "</style>\n",
              "<table border=\"1\" class=\"dataframe\">\n",
              "  <thead>\n",
              "    <tr style=\"text-align: right;\">\n",
              "      <th></th>\n",
              "      <th>state</th>\n",
              "      <th>company</th>\n",
              "    </tr>\n",
              "  </thead>\n",
              "  <tbody>\n",
              "    <tr>\n",
              "      <th>39</th>\n",
              "      <td>TX</td>\n",
              "      <td>107</td>\n",
              "    </tr>\n",
              "    <tr>\n",
              "      <th>3</th>\n",
              "      <td>CA</td>\n",
              "      <td>101</td>\n",
              "    </tr>\n",
              "    <tr>\n",
              "      <th>30</th>\n",
              "      <td>NY</td>\n",
              "      <td>98</td>\n",
              "    </tr>\n",
              "    <tr>\n",
              "      <th>13</th>\n",
              "      <td>IL</td>\n",
              "      <td>63</td>\n",
              "    </tr>\n",
              "    <tr>\n",
              "      <th>31</th>\n",
              "      <td>OH</td>\n",
              "      <td>55</td>\n",
              "    </tr>\n",
              "  </tbody>\n",
              "</table>\n",
              "</div>"
            ],
            "text/plain": [
              "   state  company\n",
              "39    TX      107\n",
              "3     CA      101\n",
              "30    NY       98\n",
              "13    IL       63\n",
              "31    OH       55"
            ]
          },
          "metadata": {
            "tags": []
          },
          "execution_count": 3
        }
      ]
    },
    {
      "metadata": {
        "id": "XOWSfH6M2Duv",
        "colab_type": "code",
        "colab": {}
      },
      "cell_type": "code",
      "source": [
        ""
      ],
      "execution_count": 0,
      "outputs": []
    },
    {
      "metadata": {
        "id": "FT3JMO6K2EGC",
        "colab_type": "code",
        "colab": {}
      },
      "cell_type": "code",
      "source": [
        ""
      ],
      "execution_count": 0,
      "outputs": []
    },
    {
      "metadata": {
        "id": "LZJPZi1fr1Bp",
        "colab_type": "text"
      },
      "cell_type": "markdown",
      "source": [
        "**Visualization**\n"
      ]
    },
    {
      "metadata": {
        "id": "Se61M1XJxtXW",
        "colab_type": "code",
        "outputId": "df036cd3-3e19-4856-a79a-ba3c7fea915d",
        "colab": {
          "base_uri": "https://localhost:8080/",
          "height": 281
        }
      },
      "cell_type": "code",
      "source": [
        "plt.figure(figsize = (7,4))\n",
        "\n",
        "sns.distplot(agg.company,kde=False);\n"
      ],
      "execution_count": 0,
      "outputs": [
        {
          "output_type": "display_data",
          "data": {
            "image/png": "[encoded data removed]",
            "text/plain": [
              "<matplotlib.figure.Figure at 0x7f1ee11946d8>"
            ]
          },
          "metadata": {
            "tags": []
          }
        }
      ]
    },
    {
      "metadata": {
        "id": "5FHccUcdzkNH",
        "colab_type": "code",
        "outputId": "d5b7f446-3147-4ce3-dde4-d5676f22702a",
        "colab": {
          "base_uri": "https://localhost:8080/",
          "height": 332
        }
      },
      "cell_type": "code",
      "source": [
        "plt.figure(figsize = (15,4))\n",
        "sns.barplot(x=agg[\"state\"], y=agg[\"company\"], data=agg).set_title(\"fortune500 company by state\")\n",
        "\n",
        "\n",
        "plt.show()"
      ],
      "execution_count": 0,
      "outputs": [
        {
          "output_type": "stream",
          "text": [
            "/usr/local/lib/python3.6/dist-packages/seaborn/categorical.py:1428: FutureWarning: remove_na is deprecated and is a private function. Do not use.\n",
            "  stat_data = remove_na(group_data)\n"
          ],
          "name": "stderr"
        },
        {
          "output_type": "display_data",
          "data": {
            "image/png": "[encoded data removed]",
            "text/plain": [
              "<matplotlib.figure.Figure at 0x7f1ee0650978>"
            ]
          },
          "metadata": {
            "tags": []
          }
        }
      ]
    },
    {
      "metadata": {
        "id": "znjUeMRlz67O",
        "colab_type": "code",
        "outputId": "ca5975f4-c33b-428c-8c5e-2dee8d2bb900",
        "colab": {
          "base_uri": "https://localhost:8080/",
          "height": 591
        }
      },
      "cell_type": "code",
      "source": [
        "# Get Axis and Figure\n",
        "fig, ax = plt.subplots()\n",
        "# Our Colormap\n",
        "cmap = matplotlib.cm.coolwarm\n",
        "# Min and Max Values\n",
        "mini = min(agg[\"company\"])\n",
        "maxi = max(agg[\"company\"])\n",
        "# Finding Colors for each tile\n",
        "norm = matplotlib.colors.Normalize(vmin=mini, vmax=maxi)\n",
        "colors = [cmap(norm(value)) for value in agg[\"company\"]]\n",
        "# Plotting\n",
        "squarify.plot(sizes=agg[\"company\"], label=agg[\"state\"], alpha=0.8, color=colors)\n",
        "# Removing Axis\n",
        "plt.axis('off')\n",
        "# Invert Y-Axis\n",
        "plt.gca().invert_yaxis()\n",
        "# Title\n",
        "plt.title(\"number of fortune 500 companies by state\", fontsize=32)\n",
        "# Title Positioning\n",
        "ttl = ax.title\n",
        "ttl.set_position([.5, 1.05])\n",
        "# BG Color\n",
        "fig.set_facecolor('#eeffee')"
      ],
      "execution_count": 0,
      "outputs": [
        {
          "output_type": "display_data",
          "data": {
            "image/png": "[encoded data removed]",
            "text/plain": [
              "<matplotlib.figure.Figure at 0x7f1eddd8cbe0>"
            ]
          },
          "metadata": {
            "tags": []
          }
        }
      ]
    },
    {
      "metadata": {
        "id": "9oglfFnoLtXR",
        "colab_type": "code",
        "colab": {}
      },
      "cell_type": "code",
      "source": [
        ""
      ],
      "execution_count": 0,
      "outputs": []
    },
    {
      "metadata": {
        "id": "e5UPXuXrLu9W",
        "colab_type": "code",
        "colab": {}
      },
      "cell_type": "code",
      "source": [
        ""
      ],
      "execution_count": 0,
      "outputs": []
    },
    {
      "metadata": {
        "id": "97xsGpj3LwpW",
        "colab_type": "code",
        "colab": {}
      },
      "cell_type": "code",
      "source": [
        ""
      ],
      "execution_count": 0,
      "outputs": []
    }
  ]
}